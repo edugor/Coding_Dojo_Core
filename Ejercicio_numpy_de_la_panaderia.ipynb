{
  "nbformat": 4,
  "nbformat_minor": 0,
  "metadata": {
    "colab": {
      "provenance": []
    },
    "kernelspec": {
      "name": "python3",
      "display_name": "Python 3"
    },
    "language_info": {
      "name": "python"
    }
  },
  "cells": [
    {
      "cell_type": "markdown",
      "source": [
        "Lista de precios:\n",
        "El precio de venta de 3 artículos en la venta de pasteles es: $2 por un brownie, $1 por una galleta y $10 por un pastel. Asignen estos valores a una lista denominada price (precio)."
      ],
      "metadata": {
        "id": "PuOMFsdFyrQb"
      }
    },
    {
      "cell_type": "code",
      "execution_count": null,
      "metadata": {
        "colab": {
          "base_uri": "https://localhost:8080/"
        },
        "id": "E0jlSSq37ufE",
        "outputId": "599cb696-bed6-4342-c86b-07344c9d0da2"
      },
      "outputs": [
        {
          "output_type": "execute_result",
          "data": {
            "text/plain": [
              "list"
            ]
          },
          "metadata": {},
          "execution_count": 387
        }
      ],
      "source": [
        "price = [2, 1, 10]\n",
        "type(price)"
      ]
    },
    {
      "cell_type": "markdown",
      "source": [
        "Lista de cantidad:\n",
        "\n",
        "El club vende 17 brownies, 40 galletas y un pastel.  \n",
        "\n",
        "Asignen estos valores a una lista denominada quantity_sold (cantidades vendidas)."
      ],
      "metadata": {
        "id": "6MN1ssXTy3sd"
      }
    },
    {
      "cell_type": "code",
      "source": [
        "quantity_sold = [17, 40, 1]\n",
        "type(quantity_sold)"
      ],
      "metadata": {
        "colab": {
          "base_uri": "https://localhost:8080/"
        },
        "id": "YmN9rGdkCAs6",
        "outputId": "a702fbef-2cb1-46c7-e778-8df0bc533d45"
      },
      "execution_count": null,
      "outputs": [
        {
          "output_type": "execute_result",
          "data": {
            "text/plain": [
              "list"
            ]
          },
          "metadata": {},
          "execution_count": 388
        }
      ]
    },
    {
      "cell_type": "markdown",
      "source": [
        "Ahora debemos encontrar el dinero recaudado para cada tipo de elemento.  Queremos el precio * cantidad para cada elemento.  Tratemos de multiplicar nuestras listas. Intentar multiplicar dos listas juntas da lugar a un error y revela una debilidad crítica de las listas: Las listas no pueden manejar cálculos. ¡Los científicos de datos necesitan calcular! Para obtener el resultado que queremos, aprenderemos un nuevo tipo de datos llamado array de NumPy. El siguiente código importará la biblioteca NumPy.  También podemos usar un alias (abreviación) para la mayoría de las bibliotecas. Convencionalmente, a NumPy siempre se le asigna el alias \"np\".  "
      ],
      "metadata": {
        "id": "PmawIPrzxzT0"
      }
    },
    {
      "cell_type": "code",
      "source": [
        "import numpy as np"
      ],
      "metadata": {
        "id": "318y1dYhCDal"
      },
      "execution_count": null,
      "outputs": []
    },
    {
      "cell_type": "markdown",
      "source": [
        "Convertir una lista a un array de NumPy\n",
        "\n",
        " Puesto que ya creamos listas para el precio y cantidad, podemos convertir estos a arrays usando el siguiente código:"
      ],
      "metadata": {
        "id": "AWNxd-RJzHo0"
      }
    },
    {
      "cell_type": "code",
      "source": [
        "price_array = np.array(price)\n",
        "quantity_sold_array = np.array(quantity_sold)\n",
        "type(price_array)"
      ],
      "metadata": {
        "id": "uMagJAq9CDlh",
        "colab": {
          "base_uri": "https://localhost:8080/"
        },
        "outputId": "c1afff77-c7a6-476c-d818-21aaa180e2c8"
      },
      "execution_count": null,
      "outputs": [
        {
          "output_type": "execute_result",
          "data": {
            "text/plain": [
              "numpy.ndarray"
            ]
          },
          "metadata": {},
          "execution_count": 390
        }
      ]
    },
    {
      "cell_type": "markdown",
      "source": [
        "encontrar el dinero recaudado para cada tipo de elemento.  Queremos el precio * cantidad para cada elemento."
      ],
      "metadata": {
        "id": "pKEKgpOPz86h"
      }
    },
    {
      "cell_type": "code",
      "source": [
        "price_array * quantity_sold_array"
      ],
      "metadata": {
        "colab": {
          "base_uri": "https://localhost:8080/"
        },
        "id": "oOZ8nuZZz7EC",
        "outputId": "91a6f23d-561d-4b3e-8a7b-5b109d5e2fd8"
      },
      "execution_count": null,
      "outputs": [
        {
          "output_type": "execute_result",
          "data": {
            "text/plain": [
              "array([34, 40, 10])"
            ]
          },
          "metadata": {},
          "execution_count": 391
        }
      ]
    },
    {
      "cell_type": "markdown",
      "source": [
        "A esto se le conoce como un cálculo elementwise (elemento a elemento).  Miremos otro ejemplo de cálculos elementwise.  Primero, creen un array de NumPy que corresponda al costo de fabricación de cada uno de los artículos vendidos en la venta de pasteles.  Digamos que cuesta $0,25 para hacer un brownie, una galleta, $0,50 y un pastel, $5,00"
      ],
      "metadata": {
        "id": "W-IdshFt0brK"
      }
    },
    {
      "cell_type": "code",
      "source": [
        "cost_array = np.array([0.25, 0.50, 5.00])"
      ],
      "metadata": {
        "id": "VXqBge7B0g1S"
      },
      "execution_count": null,
      "outputs": []
    },
    {
      "cell_type": "markdown",
      "source": [
        "Para encontrar la ganancia de cada artículo, queremos restar el costo del precio. Una matriz NumPy realizará la resta por elementos como se muestra"
      ],
      "metadata": {
        "id": "ULK97vQW1YzQ"
      }
    },
    {
      "cell_type": "code",
      "source": [
        "profit_array = price_array - cost_array\n",
        "print(profit_array)"
      ],
      "metadata": {
        "colab": {
          "base_uri": "https://localhost:8080/"
        },
        "id": "LTUYGBRA1lSi",
        "outputId": "9d337956-2db0-491e-b459-990cd30ce308"
      },
      "execution_count": null,
      "outputs": [
        {
          "output_type": "stream",
          "name": "stdout",
          "text": [
            "[1.75 0.5  5.  ]\n"
          ]
        }
      ]
    },
    {
      "cell_type": "markdown",
      "source": [
        "Booleanos elementwise\n",
        "\n",
        "Supongamos que quieren identificar qué elementos obtuvieron un beneficio superior a $2 por elemento.  Pueden usar el siguiente código para preguntar si la declaración es True (verdadera) o False (falsa) para cada elemento en el array."
      ],
      "metadata": {
        "id": "xAjfLmzJ9jVL"
      }
    },
    {
      "cell_type": "code",
      "source": [
        "profit_array > 2.00"
      ],
      "metadata": {
        "colab": {
          "base_uri": "https://localhost:8080/"
        },
        "id": "L9avPN609q5c",
        "outputId": "98a7b634-18fb-4bc3-ce14-10a45dfefaba"
      },
      "execution_count": null,
      "outputs": [
        {
          "output_type": "execute_result",
          "data": {
            "text/plain": [
              "array([False, False,  True])"
            ]
          },
          "metadata": {},
          "execution_count": 394
        }
      ]
    },
    {
      "cell_type": "markdown",
      "source": [
        "Adición\n",
        "El club también vende tartas por $7, así que debemos actualizar nuestro price_array."
      ],
      "metadata": {
        "id": "1xBXj9Cv_qVU"
      }
    },
    {
      "cell_type": "code",
      "source": [
        "price_array = np.append(price_array, 7)\n",
        "print(price_array)"
      ],
      "metadata": {
        "colab": {
          "base_uri": "https://localhost:8080/"
        },
        "id": "XaVgE8YQ_ySp",
        "outputId": "8f144d8e-bf3e-426b-e306-e64db86a04ac"
      },
      "execution_count": null,
      "outputs": [
        {
          "output_type": "stream",
          "name": "stdout",
          "text": [
            "[ 2  1 10  7]\n"
          ]
        }
      ]
    },
    {
      "cell_type": "markdown",
      "source": [
        "También pueden añadir múltiples valores al array en un comando.\n",
        "Por ejemplo, el club quiere agregar los siguientes precios: $4,50 por dulces, $3 por una magdalena, $4 por una barra de pan de plátano y $9 por una torta.  Observen el uso de corchetes en el siguiente código que añade inmediatamente los cuatro valores al array:"
      ],
      "metadata": {
        "id": "dcDjdaQ0ACHM"
      }
    },
    {
      "cell_type": "code",
      "source": [
        "price_array = np.append(price_array, [4.50, 3, 4, 9])\n",
        "print(price_array)"
      ],
      "metadata": {
        "colab": {
          "base_uri": "https://localhost:8080/"
        },
        "id": "AeftuX08ARVC",
        "outputId": "3a2af48d-c3fe-4a71-dc5b-9c5d277c026d"
      },
      "execution_count": null,
      "outputs": [
        {
          "output_type": "stream",
          "name": "stdout",
          "text": [
            "[ 2.   1.  10.   7.   4.5  3.   4.   9. ]\n"
          ]
        }
      ]
    },
    {
      "cell_type": "markdown",
      "source": [
        "Para comprobar el tipo de datos de los elementos del array, pueden utilizar lo siguiente:"
      ],
      "metadata": {
        "id": "X89YthmCAgT0"
      }
    },
    {
      "cell_type": "code",
      "source": [
        "print(price_array.dtype)"
      ],
      "metadata": {
        "colab": {
          "base_uri": "https://localhost:8080/"
        },
        "id": "OcGqP2hoAh3k",
        "outputId": "0225752f-0922-473e-bb36-697e00fffe10"
      },
      "execution_count": null,
      "outputs": [
        {
          "output_type": "stream",
          "name": "stdout",
          "text": [
            "float64\n"
          ]
        }
      ]
    },
    {
      "cell_type": "markdown",
      "source": [
        "Eliminar\n",
        "\n",
        "Resulta que nadie planea hacer una torta, así que quieren eliminar el precio de ese elemento del array.  Usaremos el comando np.delete(), pero necesitamos indicar qué elementos eliminar.  Usaremos la indexación (es muy similar a la indexación de las listas) para indicar que queremos eliminar el elemento en el índice 7 (recuerden usar indexación cero), o como es el último elemento, podemos ir por la derecha y utilizar el elemento -1."
      ],
      "metadata": {
        "id": "cwBleWv_AwVZ"
      }
    },
    {
      "cell_type": "code",
      "source": [
        "price_array = np.delete(price_array, -1)\n",
        "print(price_array)"
      ],
      "metadata": {
        "colab": {
          "base_uri": "https://localhost:8080/"
        },
        "id": "DCHQ5trSA4Vn",
        "outputId": "09316428-924a-4cde-f28c-d641b57e85bf"
      },
      "execution_count": null,
      "outputs": [
        {
          "output_type": "stream",
          "name": "stdout",
          "text": [
            "[ 2.   1.  10.   7.   4.5  3.   4. ]\n"
          ]
        }
      ]
    },
    {
      "cell_type": "markdown",
      "source": [
        "Reemplazar\n",
        "\n",
        "Después el club decide subir el precio de los pasteles de $10 a $12.  Nuevamente, tendremos que identificar el elemento usando el índice.  Los pasteles están en el índice 2."
      ],
      "metadata": {
        "id": "SFZf71j8BDI4"
      }
    },
    {
      "cell_type": "code",
      "source": [
        "price_array[2] = 12\n",
        "print(price_array)"
      ],
      "metadata": {
        "colab": {
          "base_uri": "https://localhost:8080/"
        },
        "id": "KIlQZg7xBEm4",
        "outputId": "5e257502-aba9-41e1-de95-87c85854e543"
      },
      "execution_count": null,
      "outputs": [
        {
          "output_type": "stream",
          "name": "stdout",
          "text": [
            "[ 2.   1.  12.   7.   4.5  3.   4. ]\n"
          ]
        }
      ]
    },
    {
      "cell_type": "markdown",
      "source": [
        "Ejercicio Numpy de la panaderia\n",
        "\n",
        "2 - Actualicen el quantity_sold_array para incluir la venta de 2 tartas, 3 bandejas de dulces, 16 magdalenas y 5 panes de plátano.  También se darán cuenta que una de las galletas que pensaron que se había vendido en realidad se cayó al suelo, así que editen quantity_sold_array de 40 a 39"
      ],
      "metadata": {
        "id": "R946BZS6N5c6"
      }
    },
    {
      "cell_type": "code",
      "source": [
        "quantity_sold_array = np.append(quantity_sold_array,[2, 3, 16, 5])\n",
        "print(quantity_sold_array)"
      ],
      "metadata": {
        "colab": {
          "base_uri": "https://localhost:8080/"
        },
        "id": "RdA5HkcnOJ1T",
        "outputId": "b6270aae-1ab5-48b2-95c3-f7db7a739988"
      },
      "execution_count": null,
      "outputs": [
        {
          "output_type": "stream",
          "name": "stdout",
          "text": [
            "[17 40  1  2  3 16  5]\n"
          ]
        }
      ]
    },
    {
      "cell_type": "code",
      "source": [
        "quantity_sold_array[1] = 39\n",
        "print(quantity_sold_array)"
      ],
      "metadata": {
        "colab": {
          "base_uri": "https://localhost:8080/"
        },
        "id": "npTOzK_YQLxn",
        "outputId": "f5f763cc-34c0-43d2-8cb0-24bae325c98c"
      },
      "execution_count": null,
      "outputs": [
        {
          "output_type": "stream",
          "name": "stdout",
          "text": [
            "[17 39  1  2  3 16  5]\n"
          ]
        }
      ]
    },
    {
      "cell_type": "markdown",
      "source": [
        "3 - Determinen la cantidad de dinero recaudado de la venta de cada elemento en la venta de la panadería."
      ],
      "metadata": {
        "id": "lEQMD7PER9MA"
      }
    },
    {
      "cell_type": "code",
      "source": [
        "quantity_money_collected_item = price_array * quantity_sold_array\n",
        "print(quantity_money_collected_item)"
      ],
      "metadata": {
        "colab": {
          "base_uri": "https://localhost:8080/"
        },
        "id": "1gBGI6KASGxu",
        "outputId": "2d057ab3-9fdc-4f09-bf69-3bddb0c5c25a"
      },
      "execution_count": null,
      "outputs": [
        {
          "output_type": "stream",
          "name": "stdout",
          "text": [
            "[34.  39.  12.  14.  13.5 48.  20. ]\n"
          ]
        }
      ]
    },
    {
      "cell_type": "markdown",
      "source": [
        "4 - Creen un array de NumPy \"quantity_leftover\" que incluya la cantidad de cada elemento restante al final de la venta: 2 pasteles, 1 tarta, 6 bandejas de dulces, 2 panes de plátano.  Pista: Asegúrense de incluir “0” de cada elemento que se haya vendido. ¿Por qué esto es importante cuando se crea un array?\n",
        "\n",
        "Respuesta: Es importante porque al realizar cálculos entre elementos, estos calculos se realizan en orden, elemento a elemento. Es por ello que en el ejemplo se debe rellenar con 0, los elementos no vendidos."
      ],
      "metadata": {
        "id": "ZC0_y23LUNgL"
      }
    },
    {
      "cell_type": "code",
      "source": [
        "quantity_leftover_array = np.array([0, 0, 2, 1, 6, 0, 2])"
      ],
      "metadata": {
        "id": "QRBQg5siUSIt"
      },
      "execution_count": null,
      "outputs": []
    },
    {
      "cell_type": "markdown",
      "source": [
        "5 - El club decide vender los elementos restantes a mitad de precio, y todo se venda rápidamente.  Determinen cuanto dinero se recaudó de la venta de liquidación.  "
      ],
      "metadata": {
        "id": "L6hN8e4MVLBM"
      }
    },
    {
      "cell_type": "code",
      "source": [
        "quantity_money_collected_item_liquidation = (price_array * quantity_leftover_array) / 2\n",
        "print(quantity_money_collected_item_liquidation)"
      ],
      "metadata": {
        "colab": {
          "base_uri": "https://localhost:8080/"
        },
        "id": "311PMDeWVRCc",
        "outputId": "3bfca038-df81-4483-e952-796b2ab5eeaa"
      },
      "execution_count": null,
      "outputs": [
        {
          "output_type": "stream",
          "name": "stdout",
          "text": [
            "[ 0.   0.  12.   3.5 13.5  0.   4. ]\n"
          ]
        }
      ]
    },
    {
      "cell_type": "code",
      "source": [
        "quantity_money_collected_item_liquidation = np.sum(quantity_money_collected_item_liquidation)\n",
        "print(quantity_money_collected_item_liquidation)"
      ],
      "metadata": {
        "colab": {
          "base_uri": "https://localhost:8080/"
        },
        "id": "osdBJfZ0WjpD",
        "outputId": "00d6f03d-fcc3-4673-f941-8f66cd5d2047"
      },
      "execution_count": null,
      "outputs": [
        {
          "output_type": "stream",
          "name": "stdout",
          "text": [
            "33.0\n"
          ]
        }
      ]
    },
    {
      "cell_type": "markdown",
      "source": [
        "6 - ¿Cuánto dinero total se recaudó de la venta de panadería (incluido la venta del precio total y los elementos liquidados)?\n",
        "\n",
        "Pista: La respuesta final debería ser de $213.50, pero deben asegurarse de obtener esta respuesta con sus conocimientos de codificación de NumPy.\n",
        "\n",
        "Suban un archivo con sus códigos y las soluciones."
      ],
      "metadata": {
        "id": "uwRlUgaRe1UH"
      }
    },
    {
      "cell_type": "code",
      "source": [
        "total_money_collected_sales = quantity_money_collected_item_liquidation + np.sum(quantity_money_collected_item)\n",
        "print(total_money_collected_sales)"
      ],
      "metadata": {
        "colab": {
          "base_uri": "https://localhost:8080/"
        },
        "id": "oTybjO7kfuPv",
        "outputId": "817d9855-2378-4e1f-9546-f57694cd59f9"
      },
      "execution_count": null,
      "outputs": [
        {
          "output_type": "stream",
          "name": "stdout",
          "text": [
            "213.5\n"
          ]
        }
      ]
    }
  ]
}